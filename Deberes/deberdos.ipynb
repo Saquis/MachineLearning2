{
 "cells": [
  {
   "cell_type": "code",
   "execution_count": null,
   "id": "009796ab-d5ff-4a0e-ba9b-370646427953",
   "metadata": {},
   "outputs": [],
   "source": [
    "# 01PAO25-25 - Python, Data Types\n",
    "\n",
    "![Instituto Superior Tecnológico Quito](img/Recurso-26.png)\n",
    "\n",
    "**Nombre:** Germán Del Río  \n",
    "**Fecha:**  30/06/2025\n",
    "\n",
    "---\n",
    "\n",
    "\n",
    "![Python Logo](img/python_logo.png)\n",
    "\n",
    "<a href=\"https://github.com/Saquis/MachineLearning.git \">Enlace al Repositorio</a>"
   ]
  },
  {
   "cell_type": "markdown",
   "id": "2c71be24-2809-42f5-a929-51a5236cf2c4",
   "metadata": {},
   "source": [
    "1. Escribe un programa que calcule la suma de todos los elementos de una *lista* dada. La lista sólo puede contener elementos numéricos.\n",
    "\n"
   ]
  },
  {
   "cell_type": "code",
   "execution_count": 1,
   "id": "e0b0f415-56ff-48ec-9d21-ff8f5542bbd4",
   "metadata": {},
   "outputs": [
    {
     "name": "stdout",
     "output_type": "stream",
     "text": [
      "La suma de los elementos es: 27\n"
     ]
    }
   ],
   "source": [
    "lista = [4, 7, 2, 9, 5]  # Lista\n",
    "suma = 0\n",
    "i = 0\n",
    "\n",
    "while i < len(lista):\n",
    "    suma = suma + lista[i]\n",
    "    i = i + 1\n",
    "\n",
    "print(\"La suma de los elementos es:\", suma)\n"
   ]
  },
  {
   "cell_type": "markdown",
   "id": "bfbfbd85-3fb5-4e07-b11d-d03a7e2caaaa",
   "metadata": {},
   "source": [
    "2. Dada una lista con elementos duplicados, escribir un programa que muestre una nueva lista con el mismo contenido que la primera pero sin elementos duplicados. Para este ejercicio, no puedes hacer uso de objetos de tipo 'Set'. \n"
   ]
  },
  {
   "cell_type": "code",
   "execution_count": 2,
   "id": "020505d5-80e8-4bf8-a310-25047128de85",
   "metadata": {},
   "outputs": [
    {
     "name": "stdout",
     "output_type": "stream",
     "text": [
      "Lista sin duplicados: [3, 5, 2, 7, 8, 1]\n"
     ]
    }
   ],
   "source": [
    "# Lista original con elementos duplicados\n",
    "lista = [3, 5, 2, 3, 7, 2, 5, 8, 1]\n",
    "\n",
    "# Nueva lista vacía donde voy a guardar los elementos sin repetir\n",
    "lista_sin_duplicados = []\n",
    "\n",
    "# Recorro cada elemento de la lista original\n",
    "i = 0\n",
    "while i < len(lista):\n",
    "    elemento_actual = lista[i]\n",
    "    \n",
    "    # Bandera para saber si ya está en la nueva lista\n",
    "    ya_esta = False\n",
    "    \n",
    "    # Reviso si el elemento ya está en la nueva lista\n",
    "    j = 0\n",
    "    while j < len(lista_sin_duplicados):\n",
    "        if lista_sin_duplicados[j] == elemento_actual:\n",
    "            ya_esta = True\n",
    "        j = j + 1\n",
    "\n",
    "    # Si no estaba, lo agrego a la nueva lista\n",
    "    if ya_esta == False:\n",
    "        lista_sin_duplicados.append(elemento_actual)\n",
    "    \n",
    "    i = i + 1\n",
    "\n",
    "# Muestro la lista sin duplicados\n",
    "print(\"Lista sin duplicados:\", lista_sin_duplicados)\n"
   ]
  },
  {
   "cell_type": "markdown",
   "id": "301e0a29-504b-413e-bd8a-68479edb81b0",
   "metadata": {},
   "source": [
    "3. Escribe un programa que construya un diccionario que contenga un número (entre 1 y *n*) de elementos de esta forma: (x, x*x). Ejemplo: para n = 5, el diccionario resultante sería {1: 1, 2: 4, 3: 9, 4: 16, 5: 25}\n"
   ]
  },
  {
   "cell_type": "code",
   "execution_count": 3,
   "id": "6adf879b-c219-4242-bcb8-b321a60d3ce9",
   "metadata": {},
   "outputs": [
    {
     "name": "stdout",
     "output_type": "stream",
     "text": [
      "Diccionario: {1: 1, 2: 4, 3: 9, 4: 16, 5: 25}\n"
     ]
    }
   ],
   "source": [
    "# Número límite\n",
    "n = 5\n",
    "\n",
    "# Diccionario vacío donde voy a guardar los pares (x, x*x)\n",
    "diccionario = {}\n",
    "\n",
    "# Empiezo desde 1 hasta n\n",
    "x = 1\n",
    "while x <= n:\n",
    "    # Guardo en el diccionario la clave x y su valor x*x\n",
    "    diccionario[x] = x * x\n",
    "    x = x + 1\n",
    "\n",
    "# Muestro el diccionario final\n",
    "print(\"Diccionario:\", diccionario)\n"
   ]
  },
  {
   "cell_type": "markdown",
   "id": "e892622a-6809-42d8-a21d-3584110da54a",
   "metadata": {},
   "source": [
    "4. Escribe un programa que, dada una lista de palabras, compruebe si alguna empieza por 'a' y tiene más de 9 caracteres. Si dicha palabra existe, el programa deberá terminar en el momento exacto de encontrarla. El programa también debe mostrar un mensaje apropiado por pantalla que indique el éxito o el fracaso de la búsqueda. En caso de éxito, también se mostrará por pantalla la palabra encontrada.\n"
   ]
  },
  {
   "cell_type": "code",
   "execution_count": 4,
   "id": "0b01554f-76f2-4457-b687-b2287ace4335",
   "metadata": {},
   "outputs": [
    {
     "name": "stdout",
     "output_type": "stream",
     "text": [
      "Palabra encontrada: albondigas\n",
      "Sí existe una palabra que empieza con 'a' y tiene más de 9 caracteres.\n"
     ]
    }
   ],
   "source": [
    "# Lista de palabras\n",
    "palabras = [\"carro\", \"avioneta\", \"moto\", \"montaña\", \"albondigas\", \"truper\"]\n",
    "\n",
    "# Variable para saber si encontré la palabra\n",
    "encontrada = False\n",
    "\n",
    "# Recorro la lista\n",
    "i = 0\n",
    "while i < len(palabras):\n",
    "    palabra = palabras[i]\n",
    "\n",
    "    # Reviso si empieza con 'a' y si tiene más de 9 letras\n",
    "    if palabra[0] == 'a' and len(palabra) > 9:\n",
    "        # Si cumple, marco como encontrada y muestro mensaje\n",
    "        encontrada = True\n",
    "        print(\"Palabra encontrada:\", palabra)\n",
    "        print(\"Sí existe una palabra que empieza con 'a' y tiene más de 9 caracteres.\")\n",
    "        break  # salgo del ciclo porque ya encontré\n",
    "\n",
    "    i = i + 1\n",
    "\n",
    "# Si no se encontró nada, muestro mensaje de fracaso\n",
    "if encontrada == False:\n",
    "    print(\"No existe ninguna palabra que empiece con 'a' y tenga más de 9 caracteres.\")\n"
   ]
  },
  {
   "cell_type": "markdown",
   "id": "18e3fbc0-d9c5-4df0-8012-a75d2634aa77",
   "metadata": {},
   "source": [
    "5. Dada una lista *L* de números positivos, escribir un programa que muestre otra lista (ordenada) que contenga todo índice *i* que cumpla la siguiente condición: *L[i]* es múltiplo de 3. Por ejemplo, dada la lista *L* = [3,5,13,12,1,9] el programa mostrará la lista [0,3,5] dado que *L[0], L[3] y L[5]* son, respectivamente, 3, 12 y 9, que son los únicos múltiplos de 3 que hay en *L*.\n"
   ]
  },
  {
   "cell_type": "code",
   "execution_count": 5,
   "id": "03ebcd7b-5d3f-4e46-8408-d91ebca3f3ad",
   "metadata": {},
   "outputs": [
    {
     "name": "stdout",
     "output_type": "stream",
     "text": [
      "Índices donde L[i] es múltiplo de 3: [0, 3, 5]\n"
     ]
    }
   ],
   "source": [
    "# Lista de números positivos\n",
    "L = [3, 5, 13, 12, 1, 9]\n",
    "\n",
    "# Lista vacía donde voy a guardar los índices que cumplan la condición\n",
    "indices = []\n",
    "\n",
    "# Recorro la lista\n",
    "i = 0\n",
    "while i < len(L):\n",
    "    # Reviso si el número en la posición i es múltiplo de 3\n",
    "    if L[i] % 3 == 0:\n",
    "        # Si es múltiplo de 3, guardo el índice\n",
    "        indices.append(i)\n",
    "    i = i + 1\n",
    "\n",
    "# Ordeno la lista de índices\n",
    "indices.sort()\n",
    "\n",
    "# Muestro el resultado\n",
    "print(\"Índices donde L[i] es múltiplo de 3:\", indices)\n"
   ]
  },
  {
   "cell_type": "markdown",
   "id": "4c46b76f-ed63-490c-8d6f-fb3b6d6ba7ae",
   "metadata": {},
   "source": [
    "6. Dado un diccionario cuyos elementos son pares de tipo string y numérico (es decir, las claves son de tipo 'str' y los valores son de tipo 'int' o 'float'), escribe un programa que muestre por pantalla la clave cuyo valor asociado representa el valor númerico más alto de todo el diccionario. Por ejemplo, para el diccionario {'a': 4.3, 'b': 1, 'c': 7.8, 'd': -5} la respuesta sería 'c', dado que 7.8 es el valor más alto de los números 4.3, 1, 7.8 y -5.\n"
   ]
  },
  {
   "cell_type": "code",
   "execution_count": 6,
   "id": "a1266474-34c0-4793-9b49-a123bc227f2a",
   "metadata": {},
   "outputs": [
    {
     "name": "stdout",
     "output_type": "stream",
     "text": [
      "La clave con el valor más alto es: c\n"
     ]
    }
   ],
   "source": [
    "# Diccionario con claves tipo string y valores numéricos\n",
    "diccionario = {'a': 4.3, 'b': 1, 'c': 7.8, 'd': -5}\n",
    "\n",
    "# Variables para guardar la clave con el valor más alto\n",
    "mayor_valor = None\n",
    "clave_mayor = \"\"\n",
    "\n",
    "# Recorro el diccionario con un ciclo\n",
    "for clave in diccionario:\n",
    "    valor = diccionario[clave]\n",
    "    \n",
    "    # Si todavía no he guardado nada, guardo el primer valor como el mayor\n",
    "    if mayor_valor == None:\n",
    "        mayor_valor = valor\n",
    "        clave_mayor = clave\n",
    "    else:\n",
    "        # Comparo si este valor es mayor que el que tengo guardado\n",
    "        if valor > mayor_valor:\n",
    "            mayor_valor = valor\n",
    "            clave_mayor = clave\n",
    "\n",
    "# Muestro la clave con el valor más alto\n",
    "print(\"La clave con el valor más alto es:\", clave_mayor)\n"
   ]
  },
  {
   "cell_type": "markdown",
   "id": "937331f6-fd9c-4752-94d0-0fa4ad5bc5d5",
   "metadata": {},
   "source": [
    "7. Dada la lista *a* = [2, 4, 6, 8] y la lista *b* = [7, 11, 15, 22], escribe un programa que itere las listas *a* y *b* y multiplique cada elemento de *a* que sea mayor que 5 por cada elemento de *b* que sea menor que 14. El programa debe mostrar los resultados por pantalla.\n"
   ]
  },
  {
   "cell_type": "code",
   "execution_count": 7,
   "id": "43fdedaf-bb33-4836-8bbe-9f4190a3568b",
   "metadata": {},
   "outputs": [
    {
     "name": "stdout",
     "output_type": "stream",
     "text": [
      "6 x 7 = 42\n",
      "6 x 11 = 66\n",
      "8 x 7 = 56\n",
      "8 x 11 = 88\n"
     ]
    }
   ],
   "source": [
    "# Lista a\n",
    "a = [2, 4, 6, 8]\n",
    "\n",
    "# Lista b\n",
    "b = [7, 11, 15, 22]\n",
    "\n",
    "# Recorro la lista a\n",
    "i = 0\n",
    "while i < len(a):\n",
    "    # Reviso si el elemento de a es mayor que 5\n",
    "    if a[i] > 5:\n",
    "        # Recorro la lista b\n",
    "        j = 0\n",
    "        while j < len(b):\n",
    "            # Reviso si el elemento de b es menor que 14\n",
    "            if b[j] < 14:\n",
    "                # Multiplico y muestro el resultado\n",
    "                resultado = a[i] * b[j]\n",
    "                print(a[i], \"x\", b[j], \"=\", resultado)\n",
    "            j = j + 1\n",
    "    i = i + 1\n"
   ]
  },
  {
   "cell_type": "markdown",
   "id": "5b776dbe-25d8-4478-b216-7def05cd715e",
   "metadata": {},
   "source": [
    "8. Escribir un programa que pida un valor numérico X al usuario. Para ello podéis hacer uso de la función predefinida 'input'. El programa deberá mostrar por pantalla el resultado de la división 10/X. En caso de que el usuario introduzca valores no apropiados, el programa deberá gestionar correctamente las excepciones, por ejemplo, mostrando mensajes informativos por pantalla.\n"
   ]
  },
  {
   "cell_type": "code",
   "execution_count": 8,
   "id": "c7f79f45-28e3-4d70-a0ab-0f5d6f86860c",
   "metadata": {},
   "outputs": [
    {
     "name": "stdin",
     "output_type": "stream",
     "text": [
      "Ingresa un número para dividir 10 entre él:  5\n"
     ]
    },
    {
     "name": "stdout",
     "output_type": "stream",
     "text": [
      "10 dividido entre 5 es: 2.0\n"
     ]
    }
   ],
   "source": [
    "# Pido al usuario que ingrese un número\n",
    "x = input(\"Ingresa un número para dividir 10 entre él: \")\n",
    "\n",
    "# Verifico si el usuario escribió exactamente \"0\"\n",
    "if x == \"0\":\n",
    "    # Si es cero, no se puede dividir\n",
    "    print(\"Error: No se puede dividir entre cero.\")\n",
    "else:\n",
    "    # Si no es cero, convierto a entero\n",
    "    x = int(x)\n",
    "\n",
    "    # Hago la división\n",
    "    resultado = 10 / x\n",
    "\n",
    "    # Muestro el resultado\n",
    "    print(\"10 dividido entre\", x, \"es:\", resultado)\n"
   ]
  },
  {
   "cell_type": "markdown",
   "id": "03033707-f17b-44e8-9f60-7e05d5534dd5",
   "metadata": {},
   "source": [
    "9. Escribir un programa que cree un *diccionario* cualquiera. Posteriormente, el programa pedirá al usuario (a través de la función predefinida 'input') que introduzca una clave del diccionario. Si la clave introducida es correcta (es decir, existe en el diccionario), el programa mostrará por pantalla el valor asociado a dicha clave. En caso de que la clave no exista, el programa gestionará de manera apropiada el error, por ejemplo, mostrando un mensaje informativo al usuario.\n"
   ]
  },
  {
   "cell_type": "code",
   "execution_count": 11,
   "id": "0de9853c-9990-4d03-9740-90675da553e3",
   "metadata": {},
   "outputs": [
    {
     "name": "stdin",
     "output_type": "stream",
     "text": [
      "Ingresa una clave del diccionario:  nombre\n"
     ]
    },
    {
     "name": "stdout",
     "output_type": "stream",
     "text": [
      "El valor asociado a la clave nombre es: Carlos\n"
     ]
    }
   ],
   "source": [
    "# Creo un diccionario con algunos datos\n",
    "diccionario = {\n",
    "    \"nombre\": \"Carlos\",\n",
    "    \"edad\": 25,\n",
    "    \"ciudad\": \"Quito\"\n",
    "}\n",
    "\n",
    "# Pido al usuario que escriba una clave\n",
    "clave = input(\"Ingresa una clave del diccionario: \")\n",
    "\n",
    "# Intento obtener el valor con .get(), si no existe, devuelve None\n",
    "valor = diccionario.get(clave)\n",
    "\n",
    "# Verifico si se obtuvo un valor\n",
    "if valor != None:\n",
    "    print(\"El valor asociado a la clave\", clave, \"es:\", valor)\n",
    "else:\n",
    "    print(\"La clave que ingresaste no existe en el diccionario.\")\n"
   ]
  },
  {
   "cell_type": "markdown",
   "id": "3ad4018e-f0a2-4221-8add-d959ca61e4bb",
   "metadata": {},
   "source": [
    "10. Escribe una *list comprehension* que construya una lista con los números *enteros* positivos de una lista de números dada. La lista original puede incluir números de tipo *float*, los cuales deben ser descartados.\n"
   ]
  },
  {
   "cell_type": "code",
   "execution_count": 12,
   "id": "ada63ce8-b15b-4f50-b15a-72b5926f5f09",
   "metadata": {},
   "outputs": [
    {
     "name": "stdout",
     "output_type": "stream",
     "text": [
      "Enteros positivos: [5, 8, 10, 2]\n"
     ]
    }
   ],
   "source": [
    "# Lista original con enteros y floats, positivos y negativos\n",
    "numeros = [5, -3, 7.2, 8, 0.0, 10, -1, 3.5, 2]\n",
    "\n",
    "# List comprehension para quedarme solo con enteros positivos\n",
    "enteros_positivos = [n for n in numeros if type(n) == int and n > 0]\n",
    "\n",
    "# Muestro el resultado\n",
    "print(\"Enteros positivos:\", enteros_positivos)\n"
   ]
  },
  {
   "cell_type": "markdown",
   "id": "91fcfd95-2bd0-45ed-b13e-675861733d3b",
   "metadata": {},
   "source": [
    "11. Escribe una *set comprehension* que, dada una palabra, construya un conjunto que contenga las vocales de dicha palabra.\n"
   ]
  },
  {
   "cell_type": "code",
   "execution_count": 13,
   "id": "9814e95c-b747-46f1-a3b5-6a61f0fbb0d7",
   "metadata": {},
   "outputs": [
    {
     "name": "stdout",
     "output_type": "stream",
     "text": [
      "Vocales encontradas: {'o', 'i', 'a'}\n"
     ]
    }
   ],
   "source": [
    "# Palabra de ejemplo\n",
    "palabra = \"programacion\"\n",
    "\n",
    "# Set comprehension para obtener solo las vocales presentes en la palabra\n",
    "vocales_en_palabra = {letra for letra in palabra if letra in \"aeiou\"}\n",
    "\n",
    "# Muestro el conjunto resultante\n",
    "print(\"Vocales encontradas:\", vocales_en_palabra)\n"
   ]
  },
  {
   "cell_type": "markdown",
   "id": "6472dc23-3b19-48cc-b6d0-ccb6786a2956",
   "metadata": {},
   "source": [
    "12. Escribe una *list comprehension* que construya una lista con todos los números del 0 al 50 que contengan el dígito 3. El resultado será: [3, 13, 23, 30, 31, 32, 33, 34, 35, 36, 37, 38, 39, 43].\n"
   ]
  },
  {
   "cell_type": "code",
   "execution_count": 14,
   "id": "42cb0da4-162f-4e65-9103-d4f8a063c402",
   "metadata": {},
   "outputs": [
    {
     "name": "stdout",
     "output_type": "stream",
     "text": [
      "[3, 13, 23, 30, 31, 32, 33, 34, 35, 36, 37, 38, 39, 43]\n"
     ]
    }
   ],
   "source": [
    "# Lista con números del 0 al 50 que contienen el dígito '3'\n",
    "numeros_con_3 = [n for n in range(51) if '3' in str(n)]\n",
    "\n",
    "print(numeros_con_3)\n"
   ]
  },
  {
   "cell_type": "markdown",
   "id": "ce34d96f-4627-4785-b498-0a55f4f3bac0",
   "metadata": {},
   "source": [
    "13. Escribe una *dictionary comprehension* que construya un diccionario que incluya los tamaños de cada palabra en una frase dada. Ejemplo: el resultado para la frase \"Soy un ser humano\" será {'Soy': 3, 'un': 2, 'ser': 3, 'humano': 6}\n"
   ]
  },
  {
   "cell_type": "code",
   "execution_count": 15,
   "id": "395cebe7-074e-42fe-9a84-aab94ba649ad",
   "metadata": {},
   "outputs": [
    {
     "name": "stdout",
     "output_type": "stream",
     "text": [
      "{'Soy': 3, 'un': 2, 'ser': 3, 'humano': 6}\n"
     ]
    }
   ],
   "source": [
    "# Frase dada\n",
    "frase = \"Soy un ser humano\"\n",
    "\n",
    "# Lista para guardar palabras\n",
    "palabras = []\n",
    "\n",
    "# Variable para ir armando cada palabra\n",
    "palabra_actual = \"\"\n",
    "\n",
    "# Recorro cada carácter de la frase\n",
    "i = 0\n",
    "while i < len(frase):\n",
    "    caracter = frase[i]\n",
    "    \n",
    "    # Si el caracter NO es espacio, lo añado a la palabra actual\n",
    "    if caracter != \" \":\n",
    "        palabra_actual = palabra_actual + caracter\n",
    "    else:\n",
    "        # Si encuentro un espacio y la palabra no está vacía, la guardo en la lista\n",
    "        if palabra_actual != \"\":\n",
    "            palabras.append(palabra_actual)\n",
    "            palabra_actual = \"\"  # Reinicio para la siguiente palabra\n",
    "    i = i + 1\n",
    "\n",
    "# Después del ciclo, guardo la última palabra (si la hay)\n",
    "if palabra_actual != \"\":\n",
    "    palabras.append(palabra_actual)\n",
    "\n",
    "# Ahora construyo el diccionario con tamaños (sin funciones, solo con while)\n",
    "diccionario = {}\n",
    "\n",
    "j = 0\n",
    "while j < len(palabras):\n",
    "    palabra = palabras[j]\n",
    "    \n",
    "    # Calculo la longitud manualmente (contando caracteres)\n",
    "    longitud = 0\n",
    "    k = 0\n",
    "    while k < len(palabra):\n",
    "        longitud = longitud + 1\n",
    "        k = k + 1\n",
    "    \n",
    "    # Asigno al diccionario\n",
    "    diccionario[palabra] = longitud\n",
    "    j = j + 1\n",
    "\n",
    "# Muestro el resultado\n",
    "print(diccionario)\n"
   ]
  },
  {
   "cell_type": "markdown",
   "id": "01cb897b-7f1e-4944-a413-8ce2f3034841",
   "metadata": {},
   "source": [
    "14. Escribe una *list comprehension* que construya una lista que incluya todos los números del 1 al 10 en orden. La primera mitad se mostrarán en formato numérico; la segunda mitad en texto. Es decir, el resultado será: [1, 2, 3, 4, 5, 'seis', 'siete', 'ocho', 'nueve', 'diez']."
   ]
  },
  {
   "cell_type": "code",
   "execution_count": null,
   "id": "3704d239-4c47-4733-80b5-f6018caa7aa0",
   "metadata": {},
   "outputs": [],
   "source": [
    "# Lista vacía para guardar el resultado\n",
    "lista = []\n",
    "\n",
    "# Variable para contar de 1 a 10\n",
    "i = 1\n",
    "\n",
    "# Lista con las palabras para los números del 6 al 10\n",
    "palabras = [\"seis\", \"siete\", \"ocho\", \"nueve\", \"diez\"]\n",
    "\n",
    "# Índice para recorrer la lista de palabras\n",
    "indice_palabras = 0\n",
    "\n",
    "# Mientras i sea menor o igual a 10\n",
    "while i <= 10:\n",
    "    # Si i es menor o igual a 5, agrego el número\n",
    "    if i <= 5:\n",
    "        lista.append(i)\n",
    "    else:\n",
    "        # Si es mayor, agrego la palabra correspondiente\n",
    "        lista.append(palabras[indice_palabras])\n",
    "        indice_palabras = indice_palabras + 1\n",
    "    i = i + 1\n",
    "\n",
    "# Muestro la lista final\n",
    "print(lista)\n"
   ]
  }
 ],
 "metadata": {
  "kernelspec": {
   "display_name": "Python 3 (ipykernel)",
   "language": "python",
   "name": "python3"
  },
  "language_info": {
   "codemirror_mode": {
    "name": "ipython",
    "version": 3
   },
   "file_extension": ".py",
   "mimetype": "text/x-python",
   "name": "python",
   "nbconvert_exporter": "python",
   "pygments_lexer": "ipython3",
   "version": "3.13.5"
  }
 },
 "nbformat": 4,
 "nbformat_minor": 5
}
