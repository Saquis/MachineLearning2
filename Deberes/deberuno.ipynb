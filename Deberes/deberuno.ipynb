{
 "cells": [
  {
   "cell_type": "markdown",
   "id": "6129a0ae-f28a-4534-9dcc-f81ae7601a2c",
   "metadata": {},
   "source": [
    "# 01PAO25-25 - Python, Data Types\n",
    "\n",
    "![Instituto Superior Tecnológico Quito](img/Recurso-26.png)\n",
    "\n",
    "**Nombre:** Germán Del Río  \n",
    "**Fecha:**  27/06/2055\n",
    "\n",
    "---\n",
    "\n",
    "\n",
    "![Python Logo](img/python_logo.png)\n",
    "\n",
    "<a href=\"https://github.com/Saquis/MachineLearning.git \">Enlace al Repositorio</a>"
   ]
  },
  {
   "cell_type": "markdown",
   "id": "aeaf09d6-4b8a-43ea-99a7-afcdbc66d097",
   "metadata": {},
   "source": [
    "1. Escribe un programa que muestre por pantalla la concatenación de un número y una cadena de caracteres. Para obtener esta concatenación puedes usar uno de los operadores explicados en este tema. Ejemplo: dado el número 3 y la cadena 'abc', el programa mostrará la cadena '3abc'.\n"
   ]
  },
  {
   "cell_type": "code",
   "execution_count": 5,
   "id": "fd4f1579-fdac-4417-bf00-e3f1da585463",
   "metadata": {},
   "outputs": [
    {
     "name": "stdout",
     "output_type": "stream",
     "text": [
      "3abc\n"
     ]
    }
   ],
   "source": [
    "#Concatenar número y cadena\n",
    "\n",
    "n = 3 # Asignación de variable \n",
    "s = 'abc' \n",
    "print (str(n) + s)"
   ]
  },
  {
   "cell_type": "markdown",
   "id": "01794c1c-0e2d-45ba-87a1-d26dad7e865f",
   "metadata": {},
   "source": [
    "2. Escribe un programa que muestre por pantalla un valor booleano que indique si un número entero N está contenido en un intervalo semiabierto [a,b), el cual establece una cota inferior a (inclusive) y una cota superior b (exclusive) para N.\n",
    "   "
   ]
  },
  {
   "cell_type": "code",
   "execution_count": 7,
   "id": "9b77705e-584b-4ffe-a58c-9a1b57c482ef",
   "metadata": {},
   "outputs": [
    {
     "name": "stdout",
     "output_type": "stream",
     "text": [
      "False\n"
     ]
    }
   ],
   "source": [
    "# Definir  los valores \n",
    "\n",
    "N = 10\n",
    "a = 3 \n",
    "b = 8 \n",
    "\n",
    "# Verificar si N esta entre a  (inc) y b (exclusive)\n",
    "\n",
    "esta_en = a <= N < b \n",
    "\n",
    "# Resultado \n",
    "print(esta_en) "
   ]
  },
  {
   "cell_type": "markdown",
   "id": "148d91dd-85c9-429a-a060-d233c80a58c0",
   "metadata": {},
   "source": [
    "3. Escribe un programa que, dado dos strings *S1* y *S2* y dos números enteros *N1* y *N2*, determine si el substring que en *S1* se extiende desde la posición *N1* a la *N2* (ambos inclusive) está contenido en *S2*.\n",
    "\n"
   ]
  },
  {
   "cell_type": "code",
   "execution_count": 9,
   "id": "3f6c5ae2-009a-4cc2-8373-6b19205f0dc8",
   "metadata": {},
   "outputs": [
    {
     "name": "stdout",
     "output_type": "stream",
     "text": [
      "True\n"
     ]
    }
   ],
   "source": [
    "# Definir variable\n",
    "S1 = \"xyzabcd\"\n",
    "S2 = \"abc\"\n",
    "N1 = 3\n",
    "N2 = 4 \n",
    "\n",
    "# Extraer el fragmento de S1 desde N1 hasta N2 \n",
    "sub = S1[ N1 : N2 + 1 ]\n",
    "\n",
    "# Verificación \n",
    "contenido = sub  in S2 \n",
    "\n",
    "# Mostrar resultado \n",
    "print(contenido)"
   ]
  },
  {
   "cell_type": "markdown",
   "id": "84929353-d043-4757-8b06-712fa051db85",
   "metadata": {},
   "source": [
    "4. Dada una *lista* con elementos duplicados, escribir un programa que muestre una nueva *lista* con el mismo contenido que la primera pero sin elementos duplicados.\n"
   ]
  },
  {
   "cell_type": "code",
   "execution_count": 1,
   "id": "94309234-4f1b-4024-ba1d-db1c694ce949",
   "metadata": {},
   "outputs": [
    {
     "name": "stdout",
     "output_type": "stream",
     "text": [
      "Lista sin duplicados: [1, 2, 3, 4, 5]\n"
     ]
    }
   ],
   "source": [
    "# Definir una lista con elementos duplicados\n",
    "lista_con_duplicados = [1, 2, 2, 3, 4, 4, 5]\n",
    "\n",
    "# Usar set() para eliminar duplicados (los conjuntos no permiten elementos repetidos)\n",
    "conjunto_sin_duplicados = set(lista_con_duplicados)\n",
    "\n",
    "# Convertir el conjunto de vuelta a lista\n",
    "lista_sin_duplicados = list(conjunto_sin_duplicados)\n",
    "\n",
    "# Mostrar la lista final sin duplicados\n",
    "print(\"Lista sin duplicados:\", lista_sin_duplicados)"
   ]
  },
  {
   "cell_type": "markdown",
   "id": "04809308-eb38-4780-ad0d-1705ce80e133",
   "metadata": {},
   "source": [
    "---------------------------------------------------------------------------------------------------------------------------------"
   ]
  },
  {
   "cell_type": "markdown",
   "id": "78d3b094-8ac1-4b88-b2f2-2044307a3f74",
   "metadata": {},
   "source": [
    "5. Escribe un programa que, dada una *lista* de strings *L*, un string *s* perteneciente a *L* y un string *t*, reemplace *s* por *t* en *L*. El programa debe mostrar la lista resultante por pantalla.\n"
   ]
  },
  {
   "cell_type": "code",
   "execution_count": 3,
   "id": "45065d8c-eda1-4538-b323-b1934c1a150b",
   "metadata": {},
   "outputs": [
    {
     "name": "stdout",
     "output_type": "stream",
     "text": [
      "Lista final: ['manzana', 'pera', 'cereza']\n"
     ]
    }
   ],
   "source": [
    "# Definir una lista de cadenas (strings)\n",
    "L = [\"manzana\", \"banana\", \"cereza\"]\n",
    "\n",
    "# Definir el string a buscar y el string por el que se reemplazará\n",
    "s = \"banana\"\n",
    "t = \"pera\"\n",
    "\n",
    "# Verificar si 's' está en la lista antes de intentar reemplazarlo\n",
    "if s in L:\n",
    "    # Encontrar el índice de 's' en la lista\n",
    "    indice = L.index(s)\n",
    "\n",
    "    # Reemplazar 's' por 't' en la posición encontrada\n",
    "    L[indice] = t\n",
    "\n",
    "# Mostrar la lista actualizada\n",
    "print(\"Lista final:\", L)"
   ]
  },
  {
   "cell_type": "markdown",
   "id": "b3810094-4f17-408a-bc72-933e441ee52f",
   "metadata": {},
   "source": [
    "-------------------------------------------------------------------------------------------------------------------------------------"
   ]
  },
  {
   "cell_type": "markdown",
   "id": "1dadb027-6de0-4037-9f99-b17ac369b0c1",
   "metadata": {},
   "source": [
    "6. Escribe un programa que defina una *tupla* con elementos numéricos, reemplace el valor del último por un valor diferente y muestre la *tupla* por pantalla. Recuerda que las *tuplas* son inmutables. Tendrás que usar objetos intermedios.\n"
   ]
  },
  {
   "cell_type": "code",
   "execution_count": 4,
   "id": "e6d249a7-a3de-4529-b4ad-9ddc9be33199",
   "metadata": {},
   "outputs": [
    {
     "name": "stdout",
     "output_type": "stream",
     "text": [
      "Tupla original: (10, 20, 30, 40)\n",
      "Tupla modificada: (10, 20, 30, 99)\n"
     ]
    }
   ],
   "source": [
    "# Definir una tupla con elementos numéricos\n",
    "tupla = (10, 20, 30, 40)\n",
    "\n",
    "# Mostrar la tupla original\n",
    "print(\"Tupla original:\", tupla)\n",
    "\n",
    "# Convertir la tupla a una lista para poder modificarla\n",
    "lista = list(tupla)\n",
    "\n",
    "# Reemplazar el último elemento por un nuevo valor\n",
    "lista[-1] = 99  # Cambiar el último valor por 99\n",
    "\n",
    "# Volver a convertir la lista en tupla\n",
    "tupla_modificada = tuple(lista)\n",
    "\n",
    "# Mostrar la tupla modificada\n",
    "print(\"Tupla modificada:\", tupla_modificada)"
   ]
  },
  {
   "cell_type": "markdown",
   "id": "8fe6022e-210d-43ea-9af2-e7cd6e408612",
   "metadata": {},
   "source": [
    "---------------------------------------------------------"
   ]
  },
  {
   "cell_type": "markdown",
   "id": "cf263410-7b89-4bd8-840a-619bea0cd9ff",
   "metadata": {},
   "source": [
    "7. Dada la lista [1,2,3,4,5,6,7,8] escribe un programa que, a partir de esta lista, obtenga la lista [8,6,4,2] y la muestre por pantalla.\n"
   ]
  },
  {
   "cell_type": "code",
   "execution_count": 5,
   "id": "cb61ac97-dd1d-4a77-b3c9-275a0e8b9c78",
   "metadata": {},
   "outputs": [
    {
     "name": "stdout",
     "output_type": "stream",
     "text": [
      "Lista resultado: [8, 6, 4, 2]\n"
     ]
    }
   ],
   "source": [
    "# Definir la lista original\n",
    "lista_original = [1, 2, 3, 4, 5, 6, 7, 8]\n",
    "\n",
    "# Obtener una sublista desde el último elemento hasta el primero, saltando de 2 en 2 (en orden inverso)\n",
    "lista_resultado = lista_original[::-2]\n",
    "\n",
    "# Mostrar la lista resultante\n",
    "print(\"Lista resultado:\", lista_resultado)"
   ]
  },
  {
   "cell_type": "markdown",
   "id": "24d7d739-421b-4ddf-a133-08fabd4b27e0",
   "metadata": {},
   "source": [
    "----------------------------------------------"
   ]
  },
  {
   "cell_type": "markdown",
   "id": "d7fc6940-d32e-4f00-b85d-63b865df1953",
   "metadata": {},
   "source": [
    "8. Escribe un programa que, dada una tupla y un índice válido *i*, elimine el elemento de la tupla que se encuentra en la posición *i*. Para este ejercicio sólo puedes usar objetos de tipo tupla. No puedes convetir la *tupla* a una *lista*, por ejemplo.\n"
   ]
  },
  {
   "cell_type": "code",
   "execution_count": 8,
   "id": "367bec2e-0f0a-42c6-803a-d216ceaf51e2",
   "metadata": {},
   "outputs": [
    {
     "name": "stdout",
     "output_type": "stream",
     "text": [
      "Tupla original: (10, 20, 30, 40, 50)\n",
      "Tupla sin elemento en índice 2 : (10, 20, 40, 50)\n"
     ]
    }
   ],
   "source": [
    "# Definir una tupla inicial\n",
    "tupla = (10, 20, 30, 40, 50)\n",
    "\n",
    "# Definir el índice del elemento a eliminar\n",
    "i = 2  # Se elimina el elemento en la posición 2 (en este caso, el valor es 30)\n",
    "\n",
    "# Usar slicing por dos partes:\n",
    "# - los elementos antes del índice i\n",
    "# - los elementos después del índice i\n",
    "# Luego se concatena ambas partes para formar una nueva tupla sin el elemento en la posición i\n",
    "tupla_resultado = tupla[:i] + tupla[i+1:]\n",
    "\n",
    "# Mostrar la tupla original y la tupla modificada\n",
    "print(\"Tupla original:\", tupla)\n",
    "print(\"Tupla sin elemento en índice\", i, \":\", tupla_resultado)"
   ]
  },
  {
   "cell_type": "markdown",
   "id": "2eaccc14-10ef-4c84-ba81-515963125ae5",
   "metadata": {},
   "source": [
    "-------------------------------------------------------------------------------------------------------------"
   ]
  },
  {
   "cell_type": "markdown",
   "id": "e58031b4-5b82-42db-a40d-cfb481ad23b0",
   "metadata": {},
   "source": [
    "9. Escribe un programa que obtenga la mediana de una *lista* de números. Recuerda que la mediana *M* de una lista de números *L* es el número que cumple la siguiente propiedad: la mitad de los números de *L* son superiores a *M* y la otra mitad son inferiores. Cuando el número de elementos de *L* es par, se puede considerar que hay dos medianas. No obstante, en este ejercicio consideraremos que únicamente existe una mediana."
   ]
  },
  {
   "cell_type": "code",
   "execution_count": null,
   "id": "932367ce-eeaa-4b2a-a1e9-ace523ac63cb",
   "metadata": {},
   "outputs": [],
   "source": []
  }
 ],
 "metadata": {
  "kernelspec": {
   "display_name": "Python 3 (ipykernel)",
   "language": "python",
   "name": "python3"
  },
  "language_info": {
   "codemirror_mode": {
    "name": "ipython",
    "version": 3
   },
   "file_extension": ".py",
   "mimetype": "text/x-python",
   "name": "python",
   "nbconvert_exporter": "python",
   "pygments_lexer": "ipython3",
   "version": "3.13.5"
  }
 },
 "nbformat": 4,
 "nbformat_minor": 5
}
