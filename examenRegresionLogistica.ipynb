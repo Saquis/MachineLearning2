{
 "cells": [
  {
   "cell_type": "markdown",
   "id": "36fb97e2",
   "metadata": {},
   "source": [
    "##### Predicción de Riesgo de Diabetes con **Regresión Logística** \n",
    "La diabetes es una enfermedad crónica que afecta a millones de personas en el mundo. El diagnóstico temprano es crucial para evitar complicaciones graves. En este ejercicio trabajaremso con un conjunto de datos de pacientes para predecir la probabilidad de que una persona tenga diabetes utilizando **Regresión Logística**\n",
    "## **Dataset**\n",
    "El archivo contien 15000 registros con las siguientes variables.<br>\n",
    "1. Pregnancies: Número de embarazos (0 si es hombre).\n",
    "2. PlasmaGlucose: Nivel de glucosa plasmática en ayunas (mg/dL).\n",
    "3. DiastolicBloodPressure: Presión arterial diastólica (mmHg).\n",
    "4. TricepsThickness: Espesor del pliegue cutáneo del tríceps (mm).\n",
    "5. SerumInsulin: Concentración de insulina en suero (µU/mL).\n",
    "6. BMI: Índice de masa corporal (kg/m²).\n",
    "7. DiabetesPedigree: Factor hereditario de riesgo de diabetes.\n",
    "8. Age: Edad del paciente (años).\n",
    "9. Diabetic: Variable objetivo (0 = No diabético, 1 = Diabético).\n",
    "# Instrucciones\n",
    "Desarrolle el ejercicio paso a paso en un notebook de Jupyter siguiendo las indicaciones:<br>\n",
    "1. **Lectura y exploración inicial del dataset**\n",
    "    * Importe el archivo diabetes.csv.\n",
    "    * Muestre dimensiones, nombres de columnas y distribución de clases.\n",
    "    * Verifique valores nulos o inconsistencias.\n",
    "2. **Análisis exploratorio de datos (EDA)**\n",
    "    * Genere estadísticas descriptivas de las variables numéricas.\n",
    "    * Dibuje histogramas para al menos 3 variables.\n",
    "    * Construya la matriz de correlación entre las variables predictoras.\n",
    "3. **Preparación del dataset**\n",
    "    * Elimine columnas irrelevantes (ejemplo: PatientID).\n",
    "    * Divida el dataset en entrenamiento (80%) y prueba (20%) de manera estratificada.\n",
    "4. **Construcción del modelo**\n",
    "    * Defina un Pipeline con:\n",
    "        * StandardScaler para normalizar los datos.\n",
    "        * LogisticRegression con max_iter=500.\n",
    "    * Realice validación cruzada (k=5) en el conjunto de entrenamiento.\n",
    "    * Reporte el AUC-ROC y el AUC-PR de la validación cruzada.\n",
    "5. **Evaluación del modelo en el conjunto de prueba**\n",
    "    * Calcule las probabilidades de pertenecer a la clase diabético.\n",
    "    * Genere la matriz de confusión y el reporte de clasificación.\n",
    "    * Calcule las métricas: AUC-ROC, AUC-PR, Brier Score.\n",
    "    * Dibuje las curvas ROC, Precision-Recall y de calibración.    \n",
    "6. **Selección de umbral**\n",
    "    * Construya una tabla de métricas para diferentes umbrales (de 0.1 a 0.9).\n",
    "    * Determine el mejor umbral según el índice de Youden J.\n",
    "    * Discuta cómo cambia la sensibilidad y la especificidad al modificar el umbral.    \n",
    "7. **Interpretación del modelo**\n",
    "    * Liste los coeficientes de la regresión logística.\n",
    "    * Calcule los odds ratios e interprete al menos dos variables clave.\n",
    "    * Ejemplo: “Un aumento de 1 unidad en PlasmaGlucose incrementa en X veces la probabilidad de diabetes”.\n",
    "8. **Predicción con nuevos pacientes**\n",
    "   * Ingrese manualmente los datos de 2 pacientes ficticios.\n",
    "   * Calcule la probabilidad de diabetes y la clasificación final para cada u"
   ]
  },
  {
   "cell_type": "code",
   "execution_count": null,
   "id": "808f35ab",
   "metadata": {},
   "outputs": [],
   "source": [
    "# ==== Importar librerías y configurar entorno ====\n"
   ]
  },
  {
   "cell_type": "markdown",
   "id": "d051f9b7",
   "metadata": {},
   "source": [
    "## 1. Lectura del dataset"
   ]
  },
  {
   "cell_type": "code",
   "execution_count": null,
   "id": "17a8e8c3",
   "metadata": {},
   "outputs": [],
   "source": [
    "# Intento 1: separador por defecto (',')\n",
    "\n",
    "# Si todo vino en una sola columna, re-leer con ';'\n",
    "\n"
   ]
  },
  {
   "cell_type": "markdown",
   "id": "ec1e40e5",
   "metadata": {},
   "source": [
    "## 2. Limpieza mínima y verificación de clases"
   ]
  },
  {
   "cell_type": "code",
   "execution_count": null,
   "id": "570d966b",
   "metadata": {},
   "outputs": [],
   "source": [
    "# Comprobamos que la columna objetivo exista\n",
    "\n",
    "\n",
    "# Eliminamos ID si existe\n",
    "\n",
    "\n",
    "# Tipos y valores faltantes\n",
    "\n",
    "\n",
    "# Distribución de clases\n"
   ]
  },
  {
   "cell_type": "markdown",
   "id": "70415fc8",
   "metadata": {},
   "source": [
    "## 3. EDA básico"
   ]
  },
  {
   "cell_type": "code",
   "execution_count": null,
   "id": "851b2814",
   "metadata": {},
   "outputs": [],
   "source": [
    "num_cols = [c for c in df.columns if c != TARGET]\n",
    "display(df[num_cols].describe().T)\n",
    "\n",
    "# Histograma simple por variable numérica\n",
    "\n"
   ]
  },
  {
   "cell_type": "code",
   "execution_count": null,
   "id": "affea9e8",
   "metadata": {},
   "outputs": [],
   "source": [
    "# Matriz de correlación (sin seaborn)\n",
    "c\n"
   ]
  },
  {
   "cell_type": "markdown",
   "id": "27ee41b3",
   "metadata": {},
   "source": [
    "## 4. Partición Train/Test (estratificada)"
   ]
  },
  {
   "cell_type": "code",
   "execution_count": null,
   "id": "ecfbf6e6",
   "metadata": {},
   "outputs": [],
   "source": []
  },
  {
   "cell_type": "markdown",
   "id": "fd3e6575",
   "metadata": {},
   "source": [
    "## 5. Pipeline (Scaler + Regresión Logística) y Validación Cruzada"
   ]
  },
  {
   "cell_type": "code",
   "execution_count": null,
   "id": "e9de971b",
   "metadata": {},
   "outputs": [],
   "source": [
    "\n"
   ]
  },
  {
   "cell_type": "markdown",
   "id": "4643fc5e",
   "metadata": {},
   "source": [
    "## 6. Entrenamiento final y evaluación en Test"
   ]
  },
  {
   "cell_type": "code",
   "execution_count": null,
   "id": "9a994108",
   "metadata": {},
   "outputs": [],
   "source": [
    "p\n"
   ]
  },
  {
   "cell_type": "markdown",
   "id": "7b50c1d1",
   "metadata": {},
   "source": [
    "## 7. Curvas ROC y Precision-Recall"
   ]
  },
  {
   "cell_type": "code",
   "execution_count": null,
   "id": "2c7a5305",
   "metadata": {},
   "outputs": [],
   "source": [
    "# ROC\n",
    "\n",
    "\n",
    "# PR\n",
    "\n"
   ]
  },
  {
   "cell_type": "markdown",
   "id": "a34fc77a",
   "metadata": {},
   "source": [
    "## 8. Calibración y Brier score"
   ]
  },
  {
   "cell_type": "code",
   "execution_count": null,
   "id": "5bf7b2d7",
   "metadata": {},
   "outputs": [],
   "source": [
    "\n"
   ]
  },
  {
   "cell_type": "markdown",
   "id": "e3c7b187",
   "metadata": {},
   "source": [
    "## 9. Selección de umbral (Youden J y sensibilidad objetivo)"
   ]
  },
  {
   "cell_type": "code",
   "execution_count": null,
   "id": "208f14a6",
   "metadata": {},
   "outputs": [],
   "source": [
    "\n"
   ]
  },
  {
   "cell_type": "markdown",
   "id": "971e399e",
   "metadata": {},
   "source": [
    "## 10. Interpretación: coeficientes y **odds ratios**"
   ]
  },
  {
   "cell_type": "code",
   "execution_count": null,
   "id": "9763879d",
   "metadata": {},
   "outputs": [],
   "source": [
    "# Recuperar coeficientes de la regresión logística entrenada\n"
   ]
  },
  {
   "cell_type": "markdown",
   "id": "67d073ed",
   "metadata": {},
   "source": [
    "## 11. Explicabilidad con SHAP (opcional)"
   ]
  },
  {
   "cell_type": "code",
   "execution_count": null,
   "id": "e81a0066",
   "metadata": {},
   "outputs": [],
   "source": [
    "\n"
   ]
  },
  {
   "cell_type": "markdown",
   "id": "f79b7bb7",
   "metadata": {},
   "source": [
    "## 12. Guardar modelo y métricas"
   ]
  },
  {
   "cell_type": "code",
   "execution_count": null,
   "id": "b8b89655",
   "metadata": {},
   "outputs": [],
   "source": [
    "# Guardar modelo y resumen de métricas\n",
    "\n"
   ]
  },
  {
   "cell_type": "markdown",
   "id": "388870b6-0c7f-4d10-bf20-1ca124e359c3",
   "metadata": {},
   "source": [
    "## 13. Verificar el modelo con nuevos datos"
   ]
  },
  {
   "cell_type": "code",
   "execution_count": null,
   "id": "34661c9e-9b1c-4d9b-b941-b0d23e310bc6",
   "metadata": {},
   "outputs": [],
   "source": []
  }
 ],
 "metadata": {
  "kernelspec": {
   "display_name": "Python 3 (ipykernel)",
   "language": "python",
   "name": "python3"
  },
  "language_info": {
   "codemirror_mode": {
    "name": "ipython",
    "version": 3
   },
   "file_extension": ".py",
   "mimetype": "text/x-python",
   "name": "python",
   "nbconvert_exporter": "python",
   "pygments_lexer": "ipython3",
   "version": "3.9.21"
  }
 },
 "nbformat": 4,
 "nbformat_minor": 5
}
