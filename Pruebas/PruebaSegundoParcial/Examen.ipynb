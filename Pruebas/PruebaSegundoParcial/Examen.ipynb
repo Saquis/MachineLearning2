{
 "cells": [
  {
   "attachments": {},
   "cell_type": "markdown",
   "id": "43115e44-f75d-465a-ad62-9b2be737a6e6",
   "metadata": {},
   "source": [
    "# Examen "
   ]
  },
  {
   "cell_type": "markdown",
   "id": "a7355ad8-c2d9-4c8b-a4d6-a82776f6ecfb",
   "metadata": {},
   "source": [
    "# 01PAO25-25 - Python, Data Types\n",
    "\n",
    "![Instituto Superior Tecnológico Quito](Recurso-26.png)\n",
    "\n",
    "**Nombre:** Germán Del Río  \n",
    "**Fecha:** 07/07/2055  \n",
    "**PruebaN:** 02\n",
    "\n",
    "---\n",
    "\n",
    "![Python Logo](python_logo.png)\n",
    "\n",
    "[-- Enlace al Repositorio](https://github.com/Saquis/MachineLearning/tree/main/Pruebas/PruebaSegundoParcial)"
   ]
  },
  {
   "cell_type": "code",
   "execution_count": 23,
   "id": "eb8ba270-b03c-49f8-b092-8de37baa3bfe",
   "metadata": {},
   "outputs": [],
   "source": [
    "# Your imports HERE !!!!\n",
    "import pandas as pd\n",
    "import numpy as np\n",
    "import matplotlib.pyplot as plt\n",
    "import random\n"
   ]
  },
  {
   "attachments": {},
   "cell_type": "markdown",
   "id": "2206adbd-c8e0-4665-a20b-bb6a1503d388",
   "metadata": {
    "tags": []
   },
   "source": [
    "## 01 - 1 pt\n",
    "- Dado un array de elementos, escribir una función, que reciba dicho array como parámetro de entrada y devuelva el elemento repetido. Usando plain Python, sin ninguna librería."
   ]
  },
  {
   "cell_type": "code",
   "execution_count": 4,
   "id": "748595ea-d6b6-4f35-a824-ea3631d7e15a",
   "metadata": {},
   "outputs": [
    {
     "name": "stdout",
     "output_type": "stream",
     "text": [
      "Elemento repetido encontrado: 3\n"
     ]
    }
   ],
   "source": [
    "array_src = [4, 8, 0, 3, 6, 2, 1, 5, 3, 9, 7]\n",
    "expected_rep_element = 3\n",
    "rep_element = repeated_element(array_src) # This calls your function repeated_element\n",
    "assert(expected_rep_element == rep_element)  # This will fail if the element is not found correctly\n",
    "print(\"Elemento repetido encontrado:\", rep_element)"
   ]
  },
  {
   "cell_type": "code",
   "execution_count": 3,
   "id": "3b6d4855-e751-4f45-8382-1291885aef0c",
   "metadata": {},
   "outputs": [],
   "source": [
    "# Your solution HERE !!!!\n",
    "# Funcion para encpntrar el primer elemento repetidio\n",
    "def repeated_element(arr):\n",
    "    # Recorrer todos los elementos del array  se puede hacer desde posicion i \n",
    "    \n",
    "    for i in range(len(arr)):\n",
    "        # Desde la siguiente psocion (i+1) \n",
    "        for j in range(i + 1, len(arr)):\n",
    "            # Si encuentra dos elementos iguales , está repitido \n",
    "            if arr[i] == arr[j]:\n",
    "                return arr[i]\n",
    "                \n",
    "    return None"
   ]
  },
  {
   "cell_type": "markdown",
   "id": "9f4a9dfd-86e2-426c-b1e7-9c56b9757492",
   "metadata": {
    "tags": []
   },
   "source": [
    "## 02 - 1pt\n",
    "- Genera una matriz con valores aleatorios de 0 a 100 de dimensiones 16x16\n",
    "- Calcula los siguentes estadísticos en la matriz anterior, por fila (el resultado de cada uno debe ser un array de dimensiones 1x16)\n",
    "  - Suma de los elementos de cada fila\n",
    "  - Media de los elementos de cada fila\n",
    "  - Valores mínimos de cada fila\n",
    "  - Valores máximos de cada fila"
   ]
  },
  {
   "cell_type": "code",
   "execution_count": 8,
   "id": "2e7bfe3c-253f-4287-8d85-fb7e5163e6c0",
   "metadata": {},
   "outputs": [
    {
     "name": "stdout",
     "output_type": "stream",
     "text": [
      "Matriz generada (16x16):\n",
      "[[ 53  16  44  35  37  17 100  41  33  21  30  45   9  37  12   9]\n",
      " [  8  13  14  73  62  44  82  62  37  34   1  89  59  40  95  55]\n",
      " [ 49  45  45  33  17  81  86  64  60  98  61  86  13   3  46   0]\n",
      " [ 46  78  96  32  80  15  60  54  72  89  63  20  98  78  55  53]\n",
      " [ 48  17   3  21  36  69  22  14  18   6  90  75  55  48  67  77]\n",
      " [ 32  95  23  35  27   7  26  31  96   0  88  52  22  23  33  19]\n",
      " [ 42  11  96  43  66   9  16  25   8  11  46   9  29   4  69  52]\n",
      " [ 59  58  26  85  36  23   0  49  25   5  21  64  44  20   5  61]\n",
      " [ 86  29  61  91  44  46  75  18  46  77  30  23   1  77  56  39]\n",
      " [ 94  31  30  73  50  22  83  36  82  50  28   3  98  22  59  19]\n",
      " [ 21  31  45  23 100  61  87   3  60  46  40  52  95  88  60  74]\n",
      " [ 39  67  19  56  83  60  62  91  53  19  66  48  40  26  90  11]\n",
      " [ 24  95  21   9  28  21  64  26  65  31  58  22  14  86  75  58]\n",
      " [  2  45  16  67  66  33  46   7   8  50  80  88  79  58  65  91]\n",
      " [ 77  22  16  24  40  48  95  49  69  61  98  22  52   2  82  11]\n",
      " [ 65  66  39  13  85  95  64  32   6  73  28  40  44  56  24   9]]\n",
      "\n",
      "Suma por fila:\n",
      "[539 768 787 989 666 609 536 581 799 780 886 830 697 801 768 739]\n",
      "\n",
      "Media por fila:\n",
      "[33.6875 48.     49.1875 61.8125 41.625  38.0625 33.5    36.3125 49.9375\n",
      " 48.75   55.375  51.875  43.5625 50.0625 48.     46.1875]\n",
      "\n",
      "Mínimo por fila:\n",
      "[ 9  1  0 15  3  0  4  0  1  3  3 11  9  2  2  6]\n",
      "\n",
      "Máximo por fila:\n",
      "[100  95  98  98  90  96  96  85  91  98 100  91  95  91  98  95]\n"
     ]
    }
   ],
   "source": [
    "#  numpy por estadistica \n",
    "import numpy as np\n",
    "\n",
    "#  Generaro matriz 16x16\n",
    "matriz = np.random.randint(0, 101, size=(16, 16))  # Incluye el 100\n",
    "\n",
    "#  Inicializamos listas vacías para guardar los resultados por fila\n",
    "suma_filas = []\n",
    "media_filas = []\n",
    "minimo_filas = []\n",
    "maximo_filas = []\n",
    "\n",
    "#  Recorremos cada fila de la matriz\n",
    "for fila in matriz:\n",
    "    # Calculo valor\n",
    "    suma = np.sum(fila)\n",
    "    media = np.mean(fila)\n",
    "    minimo = np.min(fila)\n",
    "    maximo = np.max(fila)\n",
    "\n",
    "    # Guardo resultado\n",
    "    suma_filas.append(suma)\n",
    "    media_filas.append(media)\n",
    "    minimo_filas.append(minimo)\n",
    "    maximo_filas.append(maximo)\n",
    "\n",
    "# Convierto lineas en array\n",
    "suma_filas = np.array(suma_filas)\n",
    "media_filas = np.array(media_filas)\n",
    "minimo_filas = np.array(minimo_filas)\n",
    "maximo_filas = np.array(maximo_filas)\n",
    "\n",
    "# Mostramos los resultados\n",
    "print(\"Matriz generada (16x16):\")\n",
    "print(matriz)\n",
    "\n",
    "print(\"\\nSuma por fila:\")\n",
    "print(suma_filas)\n",
    "\n",
    "print(\"\\nMedia por fila:\")\n",
    "print(media_filas)\n",
    "\n",
    "print(\"\\nMínimo por fila:\")\n",
    "print(minimo_filas)\n",
    "\n",
    "print(\"\\nMáximo por fila:\")\n",
    "print(maximo_filas)\n"
   ]
  },
  {
   "cell_type": "markdown",
   "id": "c1e15a9e-b2f2-46fc-a355-d9eb3d805274",
   "metadata": {
    "tags": []
   },
   "source": [
    "## 03 - 1pt\n",
    "\n",
    "- Generar un dataframe de 3x4 dimensiones con valores númericos aleatorios [0,10]\n",
    "- Darle un índice semántico alfanumérico\n",
    "- Aplicarle una función lambda que obtenga la diferencia entre el máximo y mínimo de cada fila"
   ]
  },
  {
   "cell_type": "code",
   "execution_count": 22,
   "id": "18ff9dbf-9ba4-4513-8a73-d0328b689dc9",
   "metadata": {},
   "outputs": [
    {
     "name": "stdout",
     "output_type": "stream",
     "text": [
      "DataFrame original:\n",
      "     0  1   2  3\n",
      "A1   7  7   4  3\n",
      "B2   7  6   9  4\n",
      "C3  10  0  10  6\n",
      "\n",
      "Diferencia max-min :\n",
      "A1     4\n",
      "B2     5\n",
      "C3    10\n",
      "dtype: int32\n"
     ]
    }
   ],
   "source": [
    "# Your solution HERE !!!!\n",
    "import pandas as pd\n",
    "import numpy as np\n",
    "\n",
    "# Generar dataframe 3x4 \n",
    "df = pd.DataFrame(np.random.randint(0, 11, size=(3, 4)))\n",
    "\n",
    "# Indice semantico - \n",
    "df.index = ['A1', 'B2', 'C3']\n",
    "\n",
    "print(\"DataFrame original:\")\n",
    "print(df)\n",
    "print()\n",
    "\n",
    "# Aplicar función a lambda \n",
    "diferencias = df.apply(lambda fila: fila.max() - fila.min(), axis=1)\n",
    "\n",
    "print(\"Diferencia max-min :\")\n",
    "print(diferencias)"
   ]
  },
  {
   "attachments": {},
   "cell_type": "markdown",
   "id": "1dc73e21-7283-4cd5-92e8-3a7e1e70fd02",
   "metadata": {
    "tags": []
   },
   "source": [
    "## 04 - 1pt\n",
    "- Crear un array de NumPy de dimensiones 8x5, con números enteros aleatorios en el rango [-100, 100]\n",
    "- Ejecutar en este orden\n",
    "\n",
    "  1. Reemplazar los valores de todos aquellos números múltiplos de 5 por 100\n",
    "  2. Reemplazar los valores de todos aquellos números múltiplos de 3 por Nan\n",
    "   \n",
    "  2. Averiguar cuantos elementos tienen Nan por fila\n",
    "  3. Reemplazar los valores de Nan por 0"
   ]
  },
  {
   "cell_type": "code",
   "execution_count": 9,
   "id": "2fd83be4-8626-4eaa-9ead-6f951d5ebbfb",
   "metadata": {},
   "outputs": [
    {
     "name": "stdout",
     "output_type": "stream",
     "text": [
      "Array original:\n",
      "[[-60  27 -68 -71 -92]\n",
      " [-73 -28 -77  63 -54]\n",
      " [ 94  74  52  78 -87]\n",
      " [-84 -34 -33 -64  51]\n",
      " [-94 -23  53  43  99]\n",
      " [ 58  64  -1  45 -31]\n",
      " [-81  97  11 -72 -30]\n",
      " [-30 -71 -96  47  70]]\n",
      "\n",
      "Después de reemplazar múltiplos de 5 por 100:\n",
      "[[100  27 -68 -71 -92]\n",
      " [-73 -28 -77  63 -54]\n",
      " [ 94  74  52  78 -87]\n",
      " [-84 -34 -33 -64  51]\n",
      " [-94 -23  53  43  99]\n",
      " [ 58  64  -1 100 -31]\n",
      " [-81  97  11 -72 100]\n",
      " [100 -71 -96  47 100]]\n",
      "\n",
      "Después de reemplazar múltiplos de 3 por NaN:\n",
      "[[100.  nan -68. -71. -92.]\n",
      " [-73. -28. -77.  nan  nan]\n",
      " [ 94.  74.  52.  nan  nan]\n",
      " [ nan -34.  nan -64.  nan]\n",
      " [-94. -23.  53.  43.  nan]\n",
      " [ 58.  64.  -1. 100. -31.]\n",
      " [ nan  97.  11.  nan 100.]\n",
      " [100. -71.  nan  47. 100.]]\n",
      "\n",
      "Cantidad de NaN por fila:\n",
      "Fila 0: 1 NaN\n",
      "Fila 1: 2 NaN\n",
      "Fila 2: 2 NaN\n",
      "Fila 3: 3 NaN\n",
      "Fila 4: 1 NaN\n",
      "Fila 5: 0 NaN\n",
      "Fila 6: 2 NaN\n",
      "Fila 7: 1 NaN\n",
      "\n",
      "Después de reemplazar NaN por 0:\n",
      "[[100.   0. -68. -71. -92.]\n",
      " [-73. -28. -77.   0.   0.]\n",
      " [ 94.  74.  52.   0.   0.]\n",
      " [  0. -34.   0. -64.   0.]\n",
      " [-94. -23.  53.  43.   0.]\n",
      " [ 58.  64.  -1. 100. -31.]\n",
      " [  0.  97.  11.   0. 100.]\n",
      " [100. -71.   0.  47. 100.]]\n"
     ]
    }
   ],
   "source": [
    "# Your solution HERE !!!!\n",
    "import numpy as np\n",
    "\n",
    "# Crear array 8x5 \n",
    "arr = np.random.randint(-100, 101, size=(8, 5))\n",
    "print(\"Array original:\")\n",
    "print(arr)\n",
    "print()\n",
    "\n",
    "# Reemplazar múltiplos de 5 por 100 esa tiene la logica de esto para todo\n",
    "arr[arr % 5 == 0] = 100\n",
    "print(\"Después de reemplazar múltiplos de 5 por 100:\")\n",
    "print(arr)\n",
    "print()\n",
    "\n",
    "# Reemplazar múltiplos de 3 \n",
    "arr = arr.astype(float)  # Pruebo para cambiar los flotantes por los Nam\n",
    "arr[arr % 3 == 0] = np.nan\n",
    "print(\"Después de reemplazar múltiplos de 3 por NaN:\")\n",
    "print(arr)\n",
    "print()\n",
    "\n",
    "# nan por fila\n",
    "nan_por_fila = np.isnan(arr).sum(axis=1)\n",
    "print(\"Cantidad de NaN por fila:\")\n",
    "for i, count in enumerate(nan_por_fila):\n",
    "    print(f\"Fila {i}: {count} NaN\")\n",
    "print()\n",
    "\n",
    "# Nan por 0\n",
    "arr[np.isnan(arr)] = 0\n",
    "print(\"Después de reemplazar NaN por 0:\")\n",
    "print(arr)"
   ]
  },
  {
   "attachments": {},
   "cell_type": "markdown",
   "id": "45fe9b96-168d-4bdc-a472-fb41c9031c0d",
   "metadata": {
    "tags": []
   },
   "source": [
    "## 05 - 1pt\n",
    "- Crear una función que reciba una lista de strings y devuelva una serie de pandas, y convierta el primer y último carácter de la palabra de cada elemento de la serie a mayúsculas"
   ]
  },
  {
   "cell_type": "code",
   "execution_count": 10,
   "id": "fcdd7946-27a2-4731-b40e-0ea3b7cc7836",
   "metadata": {},
   "outputs": [
    {
     "ename": "NameError",
     "evalue": "name 'pd' is not defined",
     "output_type": "error",
     "traceback": [
      "\u001b[31m---------------------------------------------------------------------------\u001b[39m",
      "\u001b[31mNameError\u001b[39m                                 Traceback (most recent call last)",
      "\u001b[36mCell\u001b[39m\u001b[36m \u001b[39m\u001b[32mIn[10]\u001b[39m\u001b[32m, line 2\u001b[39m\n\u001b[32m      1\u001b[39m languages = [\u001b[33m'\u001b[39m\u001b[33mpython\u001b[39m\u001b[33m'\u001b[39m, \u001b[33m'\u001b[39m\u001b[33mphp\u001b[39m\u001b[33m'\u001b[39m, \u001b[33m'\u001b[39m\u001b[33mjava\u001b[39m\u001b[33m'\u001b[39m, \u001b[33m'\u001b[39m\u001b[33mjavascript\u001b[39m\u001b[33m'\u001b[39m, \u001b[33m'\u001b[39m\u001b[33mc++\u001b[39m\u001b[33m'\u001b[39m, \u001b[33m'\u001b[39m\u001b[33msql\u001b[39m\u001b[33m'\u001b[39m]\n\u001b[32m----> \u001b[39m\u001b[32m2\u001b[39m expected_output = pd.Series([\u001b[33m'\u001b[39m\u001b[33mPythoN\u001b[39m\u001b[33m'\u001b[39m, \u001b[33m'\u001b[39m\u001b[33mPhP\u001b[39m\u001b[33m'\u001b[39m, \u001b[33m'\u001b[39m\u001b[33mJavA\u001b[39m\u001b[33m'\u001b[39m, \u001b[33m'\u001b[39m\u001b[33mJavascripT\u001b[39m\u001b[33m'\u001b[39m, \u001b[33m'\u001b[39m\u001b[33mC++\u001b[39m\u001b[33m'\u001b[39m, \u001b[33m'\u001b[39m\u001b[33mSqL\u001b[39m\u001b[33m'\u001b[39m])\n\u001b[32m      3\u001b[39m output = first_last_uppercase(languages)  \u001b[38;5;66;03m# This calls your function first_last_uppercase\u001b[39;00m\n\u001b[32m      4\u001b[39m \u001b[38;5;28;01massert\u001b[39;00m(expected_output.equals(output))\n",
      "\u001b[31mNameError\u001b[39m: name 'pd' is not defined"
     ]
    }
   ],
   "source": [
    "languages = ['python', 'php', 'java', 'javascript', 'c++', 'sql']\n",
    "expected_output = pd.Series(['PythoN', 'PhP', 'JavA', 'JavascripT', 'C++', 'SqL'])\n",
    "output = first_last_uppercase(languages)  # This calls your function first_last_uppercase\n",
    "assert(expected_output.equals(output))  # This will fail if the two lists are different"
   ]
  },
  {
   "cell_type": "code",
   "execution_count": 11,
   "id": "b6b5696b-71fd-4dc4-8536-18eb2d69a8fa",
   "metadata": {},
   "outputs": [
    {
     "name": "stdout",
     "output_type": "stream",
     "text": [
      "Output:\n",
      "0        PythoN\n",
      "1           PhP\n",
      "2          JavA\n",
      "3    JavascripT\n",
      "4           C++\n",
      "5           SqL\n",
      "dtype: object\n",
      "\n",
      "Expected:\n",
      "0        PythoN\n",
      "1           PhP\n",
      "2          JavA\n",
      "3    JavascripT\n",
      "4           C++\n",
      "5           SqL\n",
      "dtype: object\n",
      "\n",
      "Son iguales: True\n"
     ]
    }
   ],
   "source": [
    "# Your solution HERE !!!!\n",
    "#Panda para las series\n",
    "import pandas as pd\n",
    "\n",
    "def first_last_uppercase(lista_strings):\n",
    "    # lista a serie pandas\n",
    "    serie = pd.Series(lista_strings)\n",
    "    \n",
    "    # Aplicar transformación\n",
    "    resultado = serie.apply(lambda x: x[0].upper() + x[1:-1] + x[-1].upper() if len(x) > 1 else x.upper())\n",
    "    \n",
    "    return resultado\n",
    "\n",
    "# Prueba\n",
    "languages = ['python', 'php', 'java', 'javascript', 'c++', 'sql']\n",
    "expected_output = pd.Series(['PythoN', 'PhP', 'JavA', 'JavascripT', 'C++', 'SqL'])\n",
    "output = first_last_uppercase(languages)\n",
    "\n",
    "print(\"Output:\")\n",
    "print(output)\n",
    "print(\"\\nExpected:\")\n",
    "print(expected_output)\n",
    "print(\"\\nSon iguales:\", expected_output.equals(output))"
   ]
  },
  {
   "attachments": {},
   "cell_type": "markdown",
   "id": "d037ca2d-d40e-4fe2-8f9a-8088e927a911",
   "metadata": {
    "tags": []
   },
   "source": [
    "## 06 - 1pt\n",
    "- La serie de Fibonacci es una sucesión de números, en la cual cada número es la suma de los dos anteriores. Los dos primeros son siempre 0 y 1.\n",
    "  - $F_0 = 0$\n",
    "  - $F_1 = 1$\n",
    "  - $F_n = F_{n-1} + F_{n-2}$\n",
    "- Crear un generador infinito de números de Fibonacci."
   ]
  },
  {
   "cell_type": "code",
   "execution_count": 14,
   "id": "97509539-55e1-45e1-bba9-7b3f8e5e9bb0",
   "metadata": {},
   "outputs": [],
   "source": [
    "fibo = [0,1,1,2,3,5,8,13,21,34,55,89,144,233,377,610,987,1597]\n",
    "g = fibonacci_generator()  # This calls tour function fibonacci_generator\n",
    "expected_output = [next(g) for n in range(len(fibo))]\n",
    "assert(fibo == expected_output)  # This will fail if the output is not as expected"
   ]
  },
  {
   "cell_type": "code",
   "execution_count": 15,
   "id": "8092c7c1-c1c8-4492-b08c-489f8767ed73",
   "metadata": {},
   "outputs": [
    {
     "name": "stdout",
     "output_type": "stream",
     "text": [
      "Expected: [0, 1, 1, 2, 3, 5, 8, 13, 21, 34, 55, 89, 144, 233, 377, 610, 987, 1597]\n",
      "Output:   [0, 1, 1, 2, 3, 5, 8, 13, 21, 34, 55, 89, 144, 233, 377, 610, 987, 1597]\n"
     ]
    }
   ],
   "source": [
    "# Your solution HERE !!!!\n",
    "def fibonacci_generator():\n",
    "    a, b = 0, 1\n",
    "    while True:\n",
    "        yield a\n",
    "        a, b = b, a + b\n",
    "\n",
    "# Prueba\n",
    "fibo = [0,1,1,2,3,5,8,13,21,34,55,89,144,233,377,610,987,1597]\n",
    "g = fibonacci_generator()\n",
    "expected_output = [next(g) for n in range(len(fibo))]\n",
    "\n",
    "print(\"Esperado:\", fibo)\n",
    "print(\"Salida:  \", expected_output)\n"
   ]
  },
  {
   "attachments": {},
   "cell_type": "markdown",
   "id": "202c6c38-649d-4991-b118-12e6364d8ab0",
   "metadata": {},
   "source": [
    "## 07 - 4pt\n",
    "- Crear una lista de meses de Enero a Diciembre (eje X)\n",
    "- Generar datos aleatorios para el eje Y, hacerlo 3 veces distintas (Y0, Y1 e Y2)\n",
    "- Representar las 3 secuencias de datos aleatorios en una sola figura usando matplotlib\n",
    "- Añadir una leyenda para poder identificar cada secuencia\n",
    "- Nombrar las 3 secuencias de la siguiente manera (\"Facebook\", \"Twitter\", \"Instagram\")\n",
    "- Añadir un título y nombres a los dos ejes\n",
    "- Añadir una anotación (texto y flecha) a uno de los gráficos"
   ]
  },
  {
   "cell_type": "code",
   "execution_count": 21,
   "id": "713175cd-c48e-4a83-849e-8000d9437ac5",
   "metadata": {},
   "outputs": [
    {
     "data": {
      "image/png": "[encoded data removed]",
      "text/plain": [
       "<Figure size 640x480 with 1 Axes>"
      ]
     },
     "metadata": {},
     "output_type": "display_data"
    }
   ],
   "source": [
    "import matplotlib.pyplot as plt\n",
    "import random\n",
    "\n",
    "# Lista  Enero a Diciembre\n",
    "meses = ['Enero', 'Febrero', 'Marzo', 'Abril', 'Mayo', 'Junio', \n",
    "         'Julio', 'Agosto', 'Septiembre', 'Octubre', 'Noviembre', 'Diciembre']\n",
    "\n",
    "#   3 veces distintas\n",
    "Y0 = [random.randint(10, 100) for i in range(12)]\n",
    "Y1 = [random.randint(10, 100) for i in range(12)]\n",
    "Y2 = [random.randint(10, 100) for i in range(12)]\n",
    "\n",
    "# Representar las 3 secuencias en una sola figura\n",
    "plt.plot(meses, Y0, label='Facebook')\n",
    "plt.plot(meses, Y1, label='Twitter')\n",
    "plt.plot(meses, Y2, label='Instagram')\n",
    "\n",
    "# Título y nombres de ejes\n",
    "plt.title(' Redes Sociales por Mes')\n",
    "plt.xlabel('Meses')\n",
    "plt.ylabel('Valores')\n",
    "\n",
    "# Leyenda\n",
    "plt.legend()\n",
    "\n",
    "# Anotación con texto y flecha\n",
    "plt.annotate('Punto destacado', xy=('Junio', Y0[5]), xytext=('Agosto', Y0[5] + 20),\n",
    "             arrowprops=dict(arrowstyle='->'))\n",
    "\n",
    "plt.xticks(rotation=45)\n",
    "plt.tight_layout()\n",
    "plt.show()"
   ]
  },
  {
   "cell_type": "code",
   "execution_count": null,
   "id": "6e795d46-bced-43a2-9bef-a2b4e1aacd15",
   "metadata": {},
   "outputs": [],
   "source": []
  }
 ],
 "metadata": {
  "kernelspec": {
   "display_name": "Python 3 (ipykernel)",
   "language": "python",
   "name": "python3"
  },
  "language_info": {
   "codemirror_mode": {
    "name": "ipython",
    "version": 3
   },
   "file_extension": ".py",
   "mimetype": "text/x-python",
   "name": "python",
   "nbconvert_exporter": "python",
   "pygments_lexer": "ipython3",
   "version": "3.13.5"
  }
 },
 "nbformat": 4,
 "nbformat_minor": 5
}
