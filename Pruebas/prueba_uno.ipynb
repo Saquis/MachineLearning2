{
 "cells": [
  {
   "cell_type": "markdown",
   "id": "91cc10d4-3e9b-4378-8b8a-5e7a50b1dbc6",
   "metadata": {},
   "source": [
    "# 01PAO25-25 - Python, Data Types\n",
    "\n",
    "![Instituto Superior Tecnológico Quito](img/Recurso-26.png)\n",
    "\n",
    "**Nombre:** Germán Del Río  \n",
    "**Fecha:** 02/07/2055  \n",
    "**PruebaN:** 01\n",
    "\n",
    "---\n",
    "\n",
    "![Python Logo](img/python_logo.png)\n",
    "\n",
    "[-- Enlace al Repositorio](https://github.com/Saquis/MachineLearning/tree/main/Pruebas)\n"
   ]
  },
  {
   "cell_type": "markdown",
   "id": "004a4f40-6235-43fc-b08c-d30bfecd4b4f",
   "metadata": {},
   "source": [
    "Objetivos\n",
    "\n",
    "Desarrollar un programa en Python que reciba un conjunto de registros de estudiantes (nombre y lista de notas), e implemente estructuras de control para:\n",
    "•\tValidar que las notas estén entre 0 y 10 (inclusive)\n",
    "•\tCalcular el promedio individual\n",
    "•\tClasificar al estudiante con base en el promedio usando match o if-elif\n",
    "•\tUsar control de errores (try/except) para gestionar entradas defectuosas\n",
    "•\tAl final, mostrar un resumen con:\n",
    "o\tLa cantidad de estudiantes aprobados, reprobados y con calificación excelente\n",
    "o\tEl estudiante con el promedio más alto\n",
    "o\tUna lista de estudiantes ordenados por calificación (usando list comprehension con condiciones)\n",
    "\n",
    "Antecedentes/Escenario\n",
    "\n",
    "En la programación real, los desarrolladores frecuentemente se enfrentan a la necesidad de validar y procesar datos provenientes de diversas fuentes. Una de las tareas comunes en aplicaciones académicas o administrativas es el manejo de registros de estudiantes, los cuales pueden incluir calificaciones, observaciones y clasificaciones. Estas tareas requieren no solo cálculos, sino también una adecuada estructuración del control del flujo del programa para gestionar condiciones, errores y decisiones lógicas.\n",
    "El lenguaje Python proporciona herramientas sólidas para el manejo de este tipo de escenarios a través de estructuras de control como sentencias condicionales (if, elif, else), bucles iterativos (for, while), control de flujo con break y continue, el uso del bloque try/except para el tratamiento de excepciones, así como expresiones compactas como las list comprehensions. Estas herramientas permiten construir programas robustos y eficientes para el análisis y manipulación de datos.\n",
    "Además, Python incorpora una estructura moderna como match-case, que permite implementar una lógica condicional similar al switch en otros lenguajes, haciendo el código más limpio y expresivo al clasificar o tomar decisiones según múltiples posibles valores.\n",
    "En este ejercicio práctico, se integran todas estas capacidades para desarrollar un sistema de clasificación de estudiantes basado en sus calificaciones. El objetivo es aplicar de forma conjunta los conocimientos sobre estructuras de control, manejo de errores y procesamiento de datos, abordando problemas típicos de entrada, validación, clasificación y salida de resultados. Esta actividad representa un caso aplicado de desarrollo lógico secuencial con validación de datos, ideal para consolidar los conocimientos adquiridos en la unidad sobre estructuras de control.\n",
    "\n",
    "Desarrollo\n",
    "•\tEl programa solicitará datos hasta que se ingrese \"FIN\" como nombre del estudiante.\n",
    "•\tPor cada estudiante se ingresarán varias notas separadas por coma. Si alguna nota no es numérica o no está en el rango, se mostrará un mensaje y se omite ese estudiante.\n",
    "•\t La clasificación de desempeño será:\n",
    "o\t\"Excelente\" si el promedio es mayor o igual a 9\n",
    "o\t\"Aprobado\" si el promedio está entre 6 y 8.99\n",
    "o\t\"Reprobado\" si el promedio es menor a 6\n"
   ]
  },
  {
   "cell_type": "code",
   "execution_count": 5,
   "id": "d69ce1c0-109c-4d7e-9086-80ac7239b962",
   "metadata": {},
   "outputs": [],
   "source": [
    "# Inicialización de contenedores y listas para almacenar nombre, promedio, clasificacion \n",
    "estudiantes = []  # Lista que almacena\n",
    "aprobados = 0\n",
    "reprobados = 0\n",
    "excelentes = 0"
   ]
  },
  {
   "cell_type": "code",
   "execution_count": 7,
   "id": "67ede20e-c3ef-4675-9688-7dbbbafa176b",
   "metadata": {},
   "outputs": [
    {
     "name": "stdin",
     "output_type": "stream",
     "text": [
      "Ingrese el nombre del estudiante (o 'FIN' para terminar):  German\n",
      "Ingrese las notas separadas por comas ():  5, 10, 4\n"
     ]
    },
    {
     "name": "stdout",
     "output_type": "stream",
     "text": [
      "Estudiante: German, Promedio: 6.33, Clasificación: Aprobado\n"
     ]
    },
    {
     "name": "stdin",
     "output_type": "stream",
     "text": [
      "Ingrese el nombre del estudiante (o 'FIN' para terminar):  Mary\n",
      "Ingrese las notas separadas por comas ():  8, 4, 3\n"
     ]
    },
    {
     "name": "stdout",
     "output_type": "stream",
     "text": [
      "Estudiante: Mary, Promedio: 5.00, Clasificación: Reprobado\n"
     ]
    },
    {
     "name": "stdin",
     "output_type": "stream",
     "text": [
      "Ingrese el nombre del estudiante (o 'FIN' para terminar):  Ariana\n",
      "Ingrese las notas separadas por comas ():  10, 6, 7\n"
     ]
    },
    {
     "name": "stdout",
     "output_type": "stream",
     "text": [
      "Estudiante: Ariana, Promedio: 7.67, Clasificación: Aprobado\n"
     ]
    },
    {
     "name": "stdin",
     "output_type": "stream",
     "text": [
      "Ingrese el nombre del estudiante (o 'FIN' para terminar):  Luis\n",
      "Ingrese las notas separadas por comas ():  10, 4, 7\n"
     ]
    },
    {
     "name": "stdout",
     "output_type": "stream",
     "text": [
      "Estudiante: Luis, Promedio: 7.00, Clasificación: Aprobado\n"
     ]
    },
    {
     "name": "stdin",
     "output_type": "stream",
     "text": [
      "Ingrese el nombre del estudiante (o 'FIN' para terminar):  FIN\n"
     ]
    }
   ],
   "source": [
    "# De ley un ciclo para ingresar hasta que sea FIN  --- no se sivalidar que sea FIN en mayusculas\n",
    "while True:\n",
    "    # Nombre Estudiante\n",
    "    nombre = input(\"Ingrese el nombre del estudiante (o 'FIN' para terminar): \")\n",
    "    \n",
    "    # Verifico el FIN \n",
    "    if nombre.upper() == \"FIN\":\n",
    "        break\n",
    "    \n",
    "    # Solicitar notas --- segun el problema dice que separemos por comas\n",
    "    notas_input = input(\"Ingrese las notas separadas por comas (\"\"): \")\n",
    "    \n",
    "    # Aqui tiene que ir try  - except \n",
    "    try:\n",
    "        # Convertir la entrada de las  notas en una lista - si no, no va hacer la detección para analisi #para las notas de los cuatro estudiantes \n",
    "        notas = [float(nota.strip()) for nota in notas_input.split(\",\")]\n",
    "        \n",
    "        # Hay que validar del 0 al 10 \n",
    "        notas_validas = True\n",
    "        for nota in notas:\n",
    "            if not (0 <= nota <= 10):\n",
    "                print(f\"Error: La nota {nota} no está en el rango de 0 a 10.\")\n",
    "                notas_validas = False\n",
    "                break\n",
    "        \n",
    "        # Antes de correr de nuevo la validación hay que ver si las notas estan bien ingresadas - promedio  y de una vez la clasificación \n",
    "        if notas_validas:\n",
    "            promedio = sum(notas) / len(notas)\n",
    "            \n",
    "            # match de tres switch por la clasificacion \n",
    "            match promedio:\n",
    "                case p if p >= 9:\n",
    "                    clasificacion = \"Excelente\"\n",
    "                    excelentes += 1\n",
    "                case p if 6 <= p <= 8.99:\n",
    "                    clasificacion = \"Aprobado\"\n",
    "                    aprobados += 1\n",
    "                case p if p < 6:\n",
    "                    clasificacion = \"Reprobado\"\n",
    "                    reprobados += 1\n",
    "            \n",
    "            # estdaintes.append () dPara guardar os datos de la clasificacion y llamar a esa validación  de clasificacion \n",
    "            estudiantes.append([nombre, promedio, clasificacion])\n",
    "            print(f\"Estudiante: {nombre}, Promedio: {promedio:.2f}, Clasificación: {clasificacion}\")\n",
    "        \n",
    "    except ValueError:\n",
    "        print(\"Error: Entrada. Las notas deben ser números separados por comas.\")"
   ]
  },
  {
   "cell_type": "code",
   "execution_count": 8,
   "id": "a62332d2-9ad6-47bc-a579-c1f24948994c",
   "metadata": {},
   "outputs": [
    {
     "name": "stdout",
     "output_type": "stream",
     "text": [
      "\n",
      "=== RF ===\n",
      "Estudiantes aprobados: 3\n",
      "Estudiantes reprobados: 1\n",
      "Estudiantes con calificación excelente: 0\n",
      "\n",
      "Estudiante con el promedio más alto: Ariana (Promedio: 7.67)\n",
      "\n",
      "Lista de estudiantes ordenados por promedio:\n",
      "Ariana (Promedio: 7.67, Aprobado)\n",
      "Luis (Promedio: 7.00, Aprobado)\n",
      "German (Promedio: 6.33, Aprobado)\n",
      "Mary (Promedio: 5.00, Reprobado)\n"
     ]
    }
   ],
   "source": [
    "# Representacion  de escritura de salidas. \n",
    "print(\"\\n=== RF ===\")\n",
    "print(f\"Estudiantes aprobados: {aprobados}\")\n",
    "print(f\"Estudiantes reprobados: {reprobados}\")\n",
    "print(f\"Estudiantes con calificación excelente: {excelentes}\")\n",
    "\n",
    "# Encontrar estudiante con promeio mejor \n",
    "if estudiantes:\n",
    "    estudiante_mejor = max(estudiantes, key=lambda x: x[1])\n",
    "    print(f\"\\nEstudiante con el promedio más alto: {estudiante_mejor[0]} (Promedio: {estudiante_mejor[1]:.2f})\")\n",
    "else:\n",
    "    print(\"\\nNo hay estudiantes registrados.\")\n",
    "\n",
    "# Toc ordenar la lista con estudiantes de acuerdo al promedio. \n",
    "estudiantes_ordenados = [f\"{est[0]} (Promedio: {est[1]:.2f}, {est[2]})\" for est in sorted(estudiantes, key=lambda x: x[1], reverse=True)]\n",
    "print(\"\\nLista de estudiantes ordenados por promedio:\")\n",
    "if estudiantes_ordenados:\n",
    "    for estudiante in estudiantes_ordenados:\n",
    "        print(estudiante)\n",
    "else:\n",
    "    print(\"No hay estudiantes para mostrar.\")"
   ]
  },
  {
   "cell_type": "code",
   "execution_count": null,
   "id": "e117ceaa-6569-4493-8b31-1374b126ac37",
   "metadata": {},
   "outputs": [],
   "source": []
  }
 ],
 "metadata": {
  "kernelspec": {
   "display_name": "Python 3 (ipykernel)",
   "language": "python",
   "name": "python3"
  },
  "language_info": {
   "codemirror_mode": {
    "name": "ipython",
    "version": 3
   },
   "file_extension": ".py",
   "mimetype": "text/x-python",
   "name": "python",
   "nbconvert_exporter": "python",
   "pygments_lexer": "ipython3",
   "version": "3.13.5"
  }
 },
 "nbformat": 4,
 "nbformat_minor": 5
}
